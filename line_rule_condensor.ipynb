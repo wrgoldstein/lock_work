
columns = ['Item Number', 'Rule #', 'L T', 'SEQ #', 'And /Or','Parent Sgmt','Def. Rel.','Select Value',
           '2nd Item Number', 'Table Name',  'Derived Calculation', 'Ext Program ID']
values_columns = ['Item Number', 'Rule #', 'SEQ #', 'Segment Value']

rules_subset = rules[columns]
values_subset = values[values_columns]
merged_subset = pd.merge(rules_subset, values_subset, on=['Item Number', 'Rule #', 'SEQ #'], how='outer')

def combine_rule(group):
    "Take a multi rule `rule` and turn it into a single string"
    return '|'.join([';'.join([str(s) if s or s==0 else '' for s  in row]) for row in group.values[:,2:]])

grouped = merged_subset.groupby(['Item Number', 'Rule #', 'L T']).apply(combine_rule)

# This gets the number of times a rule appeared
rule_counts = grouped.value_counts().to_frame().reset_index().reset_index()
rule_counts.columns = 'rule_id', 'rule', 'count'
rule_counts.set_index('rule', inplace=True)

# This gets the first row number the rule appeared in
def get_min_row_and_part(group):
    row = group['index'].min()
    idx = group['index'].idxmin()
    item_number = group.loc[idx]['Item Number']
    return row, item_number

rule_order = grouped.reset_index()\
                .reset_index()\
                .rename({0: 'rule'}, axis=1)\
                .groupby('rule')\
                .apply(get_min_row_and_part)\
                .apply(pd.Series)\
                .rename({0: "rule_order", 1: "Part"}, axis=1)

merged = pd.merge(grouped.to_frame('rule').reset_index(), 
                  rule_counts, 
                  left_on='rule',
                  right_index=True).sort_values('count', ascending=False)

def hydrate_rule(rule):
    "Take a rule created by `combine_rule` and expand it to multiple rows"
    cols = columns[2:] + values_columns[3:]
    values = [row.split(';') for row in rule.split('|')]
    return dict(zip(cols, np.transpose(values)))

rule_parts = merged.groupby('rule_id').apply(lambda g: ','.join(g['Item Number'].unique()))

rules_output = []
for rule_string, s in rule_counts.iterrows():
    d = {}
    df = pd.DataFrame(hydrate_rule(rule_string)).replace('nan', '')

    df['rule_id'] = rule_order.loc[rule_string].rule_order
    df['first_part'] = rule_order.loc[rule_string].Part
    df['part_numbers'] = rule_parts.loc[s.rule_id]
    df['number_of_appearances'] = rule_counts.loc[rule_string]['count']
    rules_output.append(df)

rules_output = pd.concat(rules_output)
rules_output['SEQ #'] = rules_output['SEQ #'].apply(float).apply(int)
rules_output = rules_output.sort_values(['rule_id', 'SEQ #']).set_index('rule_id')

p_rules = rules_output[rules_output['L T'] == 'P']
c_rules = rules_output[rules_output['L T'] == 'C']

writer = pd.ExcelWriter("Documents/condensed_10_line_rules.xlsx", engine='xlsxwriter')

p_rules.to_excel(writer, sheet_name='P Rules')
c_rules.to_excel(writer, sheet_name='C Rules')

writer.save()
